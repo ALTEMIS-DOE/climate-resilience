{
 "cells": [
  {
   "cell_type": "code",
   "execution_count": 1,
   "metadata": {},
   "outputs": [],
   "source": [
    "import numpy as np"
   ]
  },
  {
   "cell_type": "code",
   "execution_count": 2,
   "metadata": {},
   "outputs": [
    {
     "data": {
      "text/plain": [
       "[1, 2, 3, 4, 5, 6, 7, 8, 9, 0]"
      ]
     },
     "execution_count": 2,
     "metadata": {},
     "output_type": "execute_result"
    }
   ],
   "source": [
    "data = [1,2,3,4,5,6,7,8,9,0]\n",
    "data"
   ]
  },
  {
   "cell_type": "code",
   "execution_count": 7,
   "metadata": {},
   "outputs": [],
   "source": [
    "tf = [True, False]\n",
    "ba = np.random.choice(tf, 10000)\n",
    "na = np.random.randint(0, 100, 10000)"
   ]
  },
  {
   "cell_type": "code",
   "execution_count": 8,
   "metadata": {},
   "outputs": [
    {
     "name": "stdout",
     "output_type": "stream",
     "text": [
      "15.9 µs ± 3.06 µs per loop (mean ± std. dev. of 7 runs, 10000 loops each)\n"
     ]
    }
   ],
   "source": [
    "%%timeit\n",
    "np.sum(ba)"
   ]
  },
  {
   "cell_type": "code",
   "execution_count": 9,
   "metadata": {},
   "outputs": [
    {
     "name": "stdout",
     "output_type": "stream",
     "text": [
      "9.67 µs ± 349 ns per loop (mean ± std. dev. of 7 runs, 100000 loops each)\n"
     ]
    }
   ],
   "source": [
    "%%timeit\n",
    "np.sum(na)"
   ]
  },
  {
   "cell_type": "code",
   "execution_count": 10,
   "metadata": {},
   "outputs": [
    {
     "name": "stdout",
     "output_type": "stream",
     "text": [
      "1.1 µs ± 31.5 ns per loop (mean ± std. dev. of 7 runs, 1000000 loops each)\n"
     ]
    }
   ],
   "source": [
    "%%timeit\n",
    "np.count_nonzero(ba)"
   ]
  },
  {
   "cell_type": "code",
   "execution_count": 11,
   "metadata": {},
   "outputs": [
    {
     "name": "stdout",
     "output_type": "stream",
     "text": [
      "19.4 µs ± 3.48 µs per loop (mean ± std. dev. of 7 runs, 10000 loops each)\n"
     ]
    }
   ],
   "source": [
    "%%timeit\n",
    "np.count_nonzero(na)"
   ]
  },
  {
   "cell_type": "code",
   "execution_count": 12,
   "metadata": {},
   "outputs": [
    {
     "data": {
      "text/plain": [
       "array([0.        , 0.16666667, 0.33333333, 0.5       , 0.66666667,\n",
       "       0.83333333, 1.        ])"
      ]
     },
     "execution_count": 12,
     "metadata": {},
     "output_type": "execute_result"
    }
   ],
   "source": [
    "col = ['cadetblue','blue','green','orange','red','darkred']\n",
    "x = np.array([i/len(col) for i in range(len(col)+1)])    # [0, 0.25, 0.5, 0.75, 1]\n",
    "x"
   ]
  },
  {
   "cell_type": "code",
   "execution_count": 19,
   "metadata": {},
   "outputs": [],
   "source": [
    "scaled = 0\n",
    "j = np.argwhere(x >= scaled)[0][0] - 1"
   ]
  },
  {
   "cell_type": "code",
   "execution_count": 20,
   "metadata": {},
   "outputs": [
    {
     "data": {
      "text/plain": [
       "'darkred'"
      ]
     },
     "execution_count": 20,
     "metadata": {},
     "output_type": "execute_result"
    }
   ],
   "source": [
    "col[j]"
   ]
  },
  {
   "cell_type": "markdown",
   "metadata": {},
   "source": [
    "---"
   ]
  },
  {
   "cell_type": "code",
   "execution_count": 30,
   "metadata": {},
   "outputs": [],
   "source": [
    "import os\n",
    "import pandas as pd\n",
    "datadir = \"/global/scratch/satyarth/Projects/lbnl-zexuan-code/data\"\n",
    "sites_csv_path = os.path.join(datadir, \"LMsites.csv\")\n",
    "sites = pd.read_csv(sites_csv_path)"
   ]
  },
  {
   "cell_type": "code",
   "execution_count": 25,
   "metadata": {},
   "outputs": [
    {
     "name": "stdout",
     "output_type": "stream",
     "text": [
      "AMB AMC BAR BLU BON BUR CAN CNT DUD DUP EDG FCT FER GJO GJT GNO GRJ GRN GSB GUD GUP HAL HAT LKD LKP LOW MAW MAY MND MNT MON NAD NAP PIN PIQ PKB RBL RFL RFN RFO RFS RUL RVT SAL SAM SBS SHE SHL SHP SLD SLP SPK SRD SRE SRW TUB WEL WYN ADR ALP AOR APC BAY BCA BEV BRP BUF CHM CHN CHS COE FFO GRC HAO INO JEC MAD NFV NWB NYN ORW OXO SCT SPP TLO TN1 TN2 PAI TON WIN ATT LEH MAX GJC GAC GNC GWC CSC CLN BRO PSC PGD UTA TTR "
     ]
    }
   ],
   "source": [
    "for i, row in sites.iterrows():\n",
    "    print(row.loc[\"NameMnemonic\"], end=\" \")"
   ]
  },
  {
   "cell_type": "code",
   "execution_count": 26,
   "metadata": {},
   "outputs": [
    {
     "name": "stdout",
     "output_type": "stream",
     "text": [
      "AMB AMC BAR BLU BON BUR CAN CNT DUD DUP EDG FCT FER GJO GJT GNO GRJ GRN GSB GUD GUP HAL HAT LKD LKP LOW MAW MAY MND MNT MON NAD NAP PIN PIQ PKB RBL RFL RFN RFO RFS RUL RVT SAL SAM SBS SHE SHL SHP SLD SLP SPK SRD SRE SRW TUB WEL WYN ADR ALP AOR APC BAY BCA BEV BRP BUF CHM CHN CHS COE FFO GRC HAO INO JEC MAD NFV NWB NYN ORW OXO SCT SPP TLO TN1 TN2 PAI TON WIN ATT LEH MAX GJC GAC GNC GWC CSC CLN BRO PSC PGD UTA TTR "
     ]
    }
   ],
   "source": [
    "for i, row in sites.iterrows():\n",
    "    print(row[\"NameMnemonic\"], end=\" \")"
   ]
  },
  {
   "cell_type": "code",
   "execution_count": 40,
   "metadata": {},
   "outputs": [
    {
     "name": "stderr",
     "output_type": "stream",
     "text": [
      "100%|██████████| 104/104 [00:00<00:00, 12919.31it/s]\n"
     ]
    },
    {
     "data": {
      "text/plain": [
       "0      AMB\n",
       "1      AMC\n",
       "2      BAR\n",
       "3      BLU\n",
       "4      BON\n",
       "      ... \n",
       "99     BRO\n",
       "100    PSC\n",
       "101    PGD\n",
       "102    UTA\n",
       "103    TTR\n",
       "Length: 104, dtype: object"
      ]
     },
     "execution_count": 40,
     "metadata": {},
     "output_type": "execute_result"
    }
   ],
   "source": [
    "from tqdm import tqdm\n",
    "tqdm.pandas()\n",
    "\n",
    "sites.progress_apply(lambda row: row[\"NameMnemonic\"], axis=1)"
   ]
  },
  {
   "cell_type": "code",
   "execution_count": null,
   "metadata": {},
   "outputs": [],
   "source": []
  }
 ],
 "metadata": {
  "kernelspec": {
   "display_name": "lbl_amanzi",
   "language": "python",
   "name": "lbl_amanzi"
  },
  "language_info": {
   "codemirror_mode": {
    "name": "ipython",
    "version": 3
   },
   "file_extension": ".py",
   "mimetype": "text/x-python",
   "name": "python",
   "nbconvert_exporter": "python",
   "pygments_lexer": "ipython3",
   "version": "3.9.7"
  }
 },
 "nbformat": 4,
 "nbformat_minor": 4
}
