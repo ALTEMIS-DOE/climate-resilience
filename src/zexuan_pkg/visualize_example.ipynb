{
 "cells": [
  {
   "cell_type": "code",
   "execution_count": 1,
   "metadata": {},
   "outputs": [],
   "source": [
    "import os\n",
    "import numpy as np\n",
    "import pandas as pd\n",
    "\n",
    "import visualize_scratch as viz"
   ]
  },
  {
   "cell_type": "code",
   "execution_count": 2,
   "metadata": {},
   "outputs": [],
   "source": [
    "datadir = \"/global/scratch/satyarth/Projects/lbnl-zexuan-code/data\"\n",
    "sites_csv_path = os.path.join(datadir, \"LMsites.csv\")\n",
    "sites = pd.read_csv(sites_csv_path)"
   ]
  },
  {
   "cell_type": "code",
   "execution_count": 3,
   "metadata": {},
   "outputs": [],
   "source": [
    "pr_csv_path = os.path.join(datadir, \"LMsites_pr1.csv\")\n",
    "df_pr = pd.read_csv(pr_csv_path)\n",
    "df_pr = df_pr.dropna(subset=['historical'])"
   ]
  },
  {
   "cell_type": "code",
   "execution_count": 4,
   "metadata": {},
   "outputs": [],
   "source": [
    "df_pr['rcp26_diff'] = df_pr['rcp26'] - df_pr['historical']\n",
    "df_pr['rcp45_diff'] = df_pr['rcp45'] - df_pr['historical']\n",
    "df_pr['rcp60_diff'] = df_pr['rcp60'] - df_pr['historical']\n",
    "df_pr['rcp85_diff'] = df_pr['rcp85'] - df_pr['historical']\n",
    "\n",
    "df_pr['rcp26_ratio'] = df_pr['rcp26_diff'] / df_pr['historical']\n",
    "df_pr['rcp45_ratio'] = df_pr['rcp45_diff'] / df_pr['historical']\n",
    "df_pr['rcp60_ratio'] = df_pr['rcp60_diff'] / df_pr['historical']\n",
    "df_pr['rcp85_ratio'] = df_pr['rcp85_diff'] / df_pr['historical']\n",
    "\n",
    "# df_pr"
   ]
  },
  {
   "cell_type": "code",
   "execution_count": 6,
   "metadata": {},
   "outputs": [
    {
     "name": "stderr",
     "output_type": "stream",
     "text": [
      "100%|██████████| 102/102 [00:00<00:00, 173.91it/s]\n"
     ]
    },
    {
     "data": {
      "application/vnd.jupyter.widget-view+json": {
       "model_id": "726feaf0f0f24489ac5985b241712e35",
       "version_major": 2,
       "version_minor": 0
      },
      "text/plain": [
       "Map(center=[39.0119, -98.4842], controls=(ZoomControl(options=['position', 'zoom_in_text', 'zoom_in_title', 'z…"
      ]
     },
     "metadata": {},
     "output_type": "display_data"
    }
   ],
   "source": [
    "import visualize_scratch as viz\n",
    "\n",
    "col_pr = ['red', 'lightblue', 'cadetblue', 'blue', 'darkblue']\n",
    "ipl_map = viz.plotmap(\n",
    "    sites=df_pr,\n",
    "    feature=\"rcp45_diff\",\n",
    "    scale_range=np.array([-0.05, 0.35]),\n",
    "    col=col_pr,\n",
    "    colorbar_label=\"Colorbar\",\n",
    "    output_map_name=None,\n",
    ")\n",
    "\n",
    "ipl_map"
   ]
  },
  {
   "cell_type": "code",
   "execution_count": null,
   "metadata": {},
   "outputs": [],
   "source": []
  }
 ],
 "metadata": {
  "kernelspec": {
   "display_name": "lbl_amanzi",
   "language": "python",
   "name": "lbl_amanzi"
  },
  "language_info": {
   "codemirror_mode": {
    "name": "ipython",
    "version": 3
   },
   "file_extension": ".py",
   "mimetype": "text/x-python",
   "name": "python",
   "nbconvert_exporter": "python",
   "pygments_lexer": "ipython3",
   "version": "3.9.7"
  }
 },
 "nbformat": 4,
 "nbformat_minor": 4
}
